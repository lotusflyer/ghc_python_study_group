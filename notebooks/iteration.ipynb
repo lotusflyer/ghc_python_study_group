{
 "cells": [
  {
   "cell_type": "markdown",
   "metadata": {},
   "source": [
    "# Iterating a DataFrame\n",
    "\n",
    "- https://towardsdatascience.com/python-pandas-iterating-a-dataframe-eb7ce7db62f8"
   ]
  },
  {
   "cell_type": "code",
   "execution_count": 14,
   "metadata": {},
   "outputs": [],
   "source": [
    "import math\n",
    "import numpy as np\n",
    "import pandas as pd"
   ]
  },
  {
   "cell_type": "code",
   "execution_count": 7,
   "metadata": {},
   "outputs": [
    {
     "name": "stdout",
     "output_type": "stream",
     "text": [
      "       column_a  column_b  column_c\n",
      "row_1        53        62        87\n",
      "row_2        45        86        98\n",
      "row_3        84        93        21\n",
      "row_4         1        45        21\n",
      "row_5         0        49        50\n"
     ]
    }
   ],
   "source": [
    "\n",
    "data = {'column_a': pd.Series(np.random.randint(0, 100, 5)),\n",
    "            'column_b': pd.Series(np.random.randint(0, 100, 5)),\n",
    "            'column_c': pd.Series(np.random.randint(0, 100, 5))}\n",
    "df = pd.DataFrame(data)\n",
    "df.index = ['row_1', 'row_2', 'row_3', 'row_4', 'row_5']\n",
    "print(df)"
   ]
  },
  {
   "cell_type": "code",
   "execution_count": 8,
   "metadata": {},
   "outputs": [
    {
     "name": "stdout",
     "output_type": "stream",
     "text": [
      "Index: row_1, row: [53 62 87]\n",
      "Index: row_2, row: [45 86 98]\n",
      "Index: row_3, row: [84 93 21]\n",
      "Index: row_4, row: [ 1 45 21]\n",
      "Index: row_5, row: [ 0 49 50]\n"
     ]
    }
   ],
   "source": [
    "\n",
    "for index, row in df.iterrows():\n",
    "    print(f'Index: {index}, row: {row.values}')"
   ]
  },
  {
   "cell_type": "code",
   "execution_count": 10,
   "metadata": {},
   "outputs": [
    {
     "name": "stdout",
     "output_type": "stream",
     "text": [
      "Index: row_1, column_a: 53\n",
      "Index: row_2, column_a: 45\n",
      "Index: row_3, column_a: 84\n",
      "Index: row_4, column_a: 1\n",
      "Index: row_5, column_a: 0\n"
     ]
    }
   ],
   "source": [
    "for index, row in df.iterrows():\n",
    "    # row.get is safer than row['column']\n",
    "    print(f'Index: {index}, column_a: {row.get(\"column_a\", 0)}')"
   ]
  },
  {
   "cell_type": "code",
   "execution_count": 12,
   "metadata": {},
   "outputs": [
    {
     "name": "stdout",
     "output_type": "stream",
     "text": [
      "Pandas(Index='row_1', column_a=53, column_b=62, column_c=87)\n",
      "<class 'pandas.core.frame.Pandas'>\n",
      "Pandas(Index='row_2', column_a=45, column_b=86, column_c=98)\n",
      "<class 'pandas.core.frame.Pandas'>\n",
      "Pandas(Index='row_3', column_a=84, column_b=93, column_c=21)\n",
      "<class 'pandas.core.frame.Pandas'>\n",
      "Pandas(Index='row_4', column_a=1, column_b=45, column_c=21)\n",
      "<class 'pandas.core.frame.Pandas'>\n",
      "Pandas(Index='row_5', column_a=0, column_b=49, column_c=50)\n",
      "<class 'pandas.core.frame.Pandas'>\n"
     ]
    }
   ],
   "source": [
    "for row in df.itertuples():\n",
    "    print(row)"
   ]
  },
  {
   "cell_type": "markdown",
   "metadata": {},
   "source": [
    "Whilst being able to iterate a DataFrame using .iterrows() and .itertuples() is convenient, generally, it’s advised not to as the performance is quite slow over a larger DataFrame. Usually, when people are wanting to iterate a DataFrame it is to add in a calculated column or reformat an existing one. Pandas provides this type of functionality through its built-in function .apply(). The .apply() function provides a more efficient method for updating a DataFrame. \n",
    "\n",
    "Pandas Apply for Power Users provides an in-depth look at Pandas .apply().\n",
    "https://towardsdatascience.com/pandas-apply-for-power-users-f44d0e0025ce"
   ]
  },
  {
   "cell_type": "markdown",
   "metadata": {},
   "source": [
    "## Pandas Apply"
   ]
  },
  {
   "cell_type": "code",
   "execution_count": 20,
   "metadata": {},
   "outputs": [],
   "source": [
    "def squared_dataframe(size):\n",
    "    output = [{'square': np.square(np.random.randint(0, 1000))} for _ in range(size)]\n",
    "    return output"
   ]
  },
  {
   "cell_type": "code",
   "execution_count": 21,
   "metadata": {},
   "outputs": [],
   "source": [
    "# Generate DataFrame with square numbers.\n",
    "df = pd.DataFrame(squared_dataframe(10000))"
   ]
  },
  {
   "cell_type": "code",
   "execution_count": 22,
   "metadata": {},
   "outputs": [
    {
     "name": "stdout",
     "output_type": "stream",
     "text": [
      "(10000, 1)\n",
      "   square\n",
      "0    2025\n",
      "1  811801\n",
      "2  173056\n",
      "3   45796\n",
      "4  674041\n",
      "5   99225\n",
      "6  201601\n",
      "7  329476\n",
      "8  407044\n",
      "9  731025\n"
     ]
    }
   ],
   "source": [
    "print(df.shape)\n",
    "print(df.head(10))"
   ]
  },
  {
   "cell_type": "code",
   "execution_count": 23,
   "metadata": {},
   "outputs": [],
   "source": [
    "def get_square_root(squared_number):\n",
    "    return math.sqrt(squared_number)"
   ]
  },
  {
   "cell_type": "markdown",
   "metadata": {},
   "source": [
    "## Calculate square roots using different methods."
   ]
  },
  {
   "cell_type": "code",
   "execution_count": 27,
   "metadata": {},
   "outputs": [],
   "source": [
    "# apply the function simplicitor\n",
    "df['square_root_numpy'] = df['square'].apply(np.sqrt)"
   ]
  },
  {
   "cell_type": "markdown",
   "metadata": {},
   "source": [
    "In Python, an anonymous function means that a function is without a name. As we already know that the def keyword is used to define a normal function in Python. Similarly, the lambda keyword is used to define an anonymous function in Python. It has the following syntax: \n",
    "\n",
    "Syntax: lambda arguments: expression\n",
    "\n",
    "This function can have any number of arguments but only one expression, which is evaluated and returned.\n",
    "One is free to use lambda functions wherever function objects are required.\n",
    "You need to keep in your knowledge that lambda functions are syntactically restricted to a single expression.\n",
    "It has various uses in particular fields of programming besides other types of expressions in functions.\n",
    "\n",
    "https://www.geeksforgeeks.org/python-lambda-anonymous-functions-filter-map-reduce/\n"
   ]
  },
  {
   "cell_type": "code",
   "execution_count": 30,
   "metadata": {},
   "outputs": [
    {
     "name": "stdout",
     "output_type": "stream",
     "text": [
      "125\n",
      "125\n"
     ]
    }
   ],
   "source": [
    "# Python code to illustrate cube of a number \n",
    "# showing difference between def() and lambda(). \n",
    "def cube(y): \n",
    "    return y*y*y \n",
    "\n",
    "lambda_cube = lambda y: y*y*y \n",
    "\n",
    "# using the normally \n",
    "# defined function \n",
    "print(cube(5)) \n",
    "\n",
    "# using the lamda function \n",
    "print(lambda_cube(5)) "
   ]
  },
  {
   "cell_type": "code",
   "execution_count": 32,
   "metadata": {},
   "outputs": [],
   "source": [
    "# apply a \"nameless\" lambda function\n",
    "df['square_root_lambda'] = df['square'].apply(lambda x: math.sqrt(x))"
   ]
  },
  {
   "cell_type": "code",
   "execution_count": 33,
   "metadata": {},
   "outputs": [],
   "source": [
    "# use the function we defined above\n",
    "df['square_root_function'] = df['square'].apply(get_square_root)"
   ]
  },
  {
   "cell_type": "code",
   "execution_count": 15,
   "metadata": {},
   "outputs": [
    {
     "name": "stdout",
     "output_type": "stream",
     "text": [
      "   square  square_root_numpy  square_root_lambda  square_root_function\n",
      "0  146689              383.0               383.0                 383.0\n",
      "1   11664              108.0               108.0                 108.0\n",
      "2   62500              250.0               250.0                 250.0\n",
      "3   74529              273.0               273.0                 273.0\n",
      "4      49                7.0                 7.0                   7.0\n",
      "5   23409              153.0               153.0                 153.0\n",
      "6  391876              626.0               626.0                 626.0\n",
      "7  421201              649.0               649.0                 649.0\n",
      "8   20736              144.0               144.0                 144.0\n",
      "9  692224              832.0               832.0                 832.0\n"
     ]
    }
   ],
   "source": [
    "print(df.head(10))"
   ]
  },
  {
   "cell_type": "markdown",
   "metadata": {},
   "source": [
    "## using apply with multiple columns"
   ]
  },
  {
   "cell_type": "code",
   "execution_count": 34,
   "metadata": {},
   "outputs": [],
   "source": [
    "# function with two arguments!\n",
    "def f(n_1, n_2):\n",
    "    return n_1*n_2"
   ]
  },
  {
   "cell_type": "code",
   "execution_count": 39,
   "metadata": {},
   "outputs": [],
   "source": [
    "# apply the function to two columns\n",
    "df['new_square'] = df.apply(lambda x: f(x.square_root_numpy, x.square_root_lambda), axis=1)"
   ]
  },
  {
   "cell_type": "code",
   "execution_count": 38,
   "metadata": {},
   "outputs": [
    {
     "name": "stdout",
     "output_type": "stream",
     "text": [
      "   square  new_square\n",
      "0    2025      2025.0\n",
      "1  811801    811801.0\n",
      "2  173056    173056.0\n",
      "3   45796     45796.0\n",
      "4  674041    674041.0\n",
      "5   99225     99225.0\n",
      "6  201601    201601.0\n",
      "7  329476    329476.0\n",
      "8  407044    407044.0\n",
      "9  731025    731025.0\n"
     ]
    }
   ],
   "source": [
    "print(df[['square', 'new_square']].head(10))"
   ]
  },
  {
   "cell_type": "code",
   "execution_count": null,
   "metadata": {},
   "outputs": [],
   "source": []
  }
 ],
 "metadata": {
  "kernelspec": {
   "display_name": "Python 3",
   "language": "python",
   "name": "python3"
  },
  "language_info": {
   "codemirror_mode": {
    "name": "ipython",
    "version": 3
   },
   "file_extension": ".py",
   "mimetype": "text/x-python",
   "name": "python",
   "nbconvert_exporter": "python",
   "pygments_lexer": "ipython3",
   "version": "3.8.5"
  }
 },
 "nbformat": 4,
 "nbformat_minor": 4
}
