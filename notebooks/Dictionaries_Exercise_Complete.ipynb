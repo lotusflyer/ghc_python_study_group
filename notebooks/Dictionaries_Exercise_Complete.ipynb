{
 "cells": [
  {
   "cell_type": "markdown",
   "metadata": {},
   "source": [
    "# Dictionaries Exercise"
   ]
  },
  {
   "cell_type": "markdown",
   "metadata": {},
   "source": [
    "\"A dictionary keeps the elements in key-value mapping format and internally uses hashing for it; therefore, we can get a value from the dictionary by its key very quickly.\" \n",
    "\n",
    "Keys must be hashable, therefore must be immutable?\n",
    "    acceptable key types: int, strings, tuples, float"
   ]
  },
  {
   "cell_type": "markdown",
   "metadata": {},
   "source": [
    "More methods for dictionaries: https://www.w3schools.com/python/python_ref_dictionary.asp"
   ]
  },
  {
   "cell_type": "markdown",
   "metadata": {},
   "source": [
    "What is a big difference between lists and dictionairies?\n",
    "\n",
    "A: Dictionaries are accessed by keys and not by index -> dictionary elements are not ordered|"
   ]
  },
  {
   "cell_type": "code",
   "execution_count": 1,
   "metadata": {},
   "outputs": [],
   "source": [
    "# Using the method shown in the course, make a dictionary for a patient, and store their\n",
    "# height, weight, number of exercises they were prescribed, and number of exercises they completed\n",
    "\n",
    "Jane_Doe = {'Height':[5,5],'Weight':135,'Prescription': 10, 'Performance':6}"
   ]
  },
  {
   "cell_type": "code",
   "execution_count": 2,
   "metadata": {},
   "outputs": [
    {
     "name": "stdout",
     "output_type": "stream",
     "text": [
      "{'Height': [5, 5], 'Weight': 135, 'Prescription': 10, 'Performance': 6}\n"
     ]
    }
   ],
   "source": [
    "print(Jane_Doe)"
   ]
  },
  {
   "cell_type": "code",
   "execution_count": 3,
   "metadata": {},
   "outputs": [],
   "source": [
    "# make a new variable called compliance,\n",
    "# and calculate the patient's compliance as a percentage of their prescribed exercises\n",
    "\n",
    "compliance = Jane_Doe['Performance']/Jane_Doe['Prescription']"
   ]
  },
  {
   "cell_type": "code",
   "execution_count": 4,
   "metadata": {},
   "outputs": [
    {
     "name": "stdout",
     "output_type": "stream",
     "text": [
      "0.6\n"
     ]
    }
   ],
   "source": [
    "print(compliance)"
   ]
  },
  {
   "cell_type": "code",
   "execution_count": 5,
   "metadata": {},
   "outputs": [],
   "source": [
    "# Delete height and weight from the dictionary\n",
    "\n",
    "del Jane_Doe['Height']\n",
    "del Jane_Doe['Weight']"
   ]
  },
  {
   "cell_type": "code",
   "execution_count": 6,
   "metadata": {},
   "outputs": [
    {
     "name": "stdout",
     "output_type": "stream",
     "text": [
      "{'Prescription': 10, 'Performance': 6}\n"
     ]
    }
   ],
   "source": [
    "print(Jane_Doe)"
   ]
  },
  {
   "cell_type": "code",
   "execution_count": 7,
   "metadata": {},
   "outputs": [],
   "source": [
    "# add a new height and weight value to the dictionary\n",
    "\n",
    "Jane_Doe.update({'Height':[5,6],'Weight':140})"
   ]
  },
  {
   "cell_type": "code",
   "execution_count": 8,
   "metadata": {},
   "outputs": [
    {
     "name": "stdout",
     "output_type": "stream",
     "text": [
      "{'Prescription': 10, 'Performance': 6, 'Height': [5, 6], 'Weight': 140}\n"
     ]
    }
   ],
   "source": [
    "print(Jane_Doe)"
   ]
  },
  {
   "cell_type": "code",
   "execution_count": 9,
   "metadata": {},
   "outputs": [],
   "source": [
    "# Edit the value for height or weight\n",
    "\n",
    "Jane_Doe['Weight'] = 130"
   ]
  },
  {
   "cell_type": "code",
   "execution_count": 10,
   "metadata": {},
   "outputs": [
    {
     "name": "stdout",
     "output_type": "stream",
     "text": [
      "{'Prescription': 10, 'Performance': 6, 'Height': [5, 6], 'Weight': 130}\n"
     ]
    }
   ],
   "source": [
    "# Did we really edit the value?\n",
    "\n",
    "print(Jane_Doe)"
   ]
  },
  {
   "cell_type": "markdown",
   "metadata": {},
   "source": [
    " https://www.datacamp.com/community/tutorials/python-dictionary-comprehension\n",
    " \n",
    " You can also access each key-value pair within a dictionary using the items() method:\n",
    " \n",
    " dict_variable = {key:value for (key,value) in dictonary.items()}"
   ]
  },
  {
   "cell_type": "code",
   "execution_count": 11,
   "metadata": {},
   "outputs": [],
   "source": [
    "# Make a new dictionary that contains multiple patients' prescription and performance data. \n",
    "# Store the patient name as the key, and the prescriptiona nd performance as the value\n",
    "\n",
    "pt_data = {'Jane':[10,7],'Jon':[12,3],'Max':[5,10]}"
   ]
  },
  {
   "cell_type": "code",
   "execution_count": 12,
   "metadata": {},
   "outputs": [
    {
     "name": "stdout",
     "output_type": "stream",
     "text": [
      "{'Jane': [10, 7], 'Jon': [12, 3], 'Max': [5, 10]}\n"
     ]
    }
   ],
   "source": [
    "print(pt_data)"
   ]
  },
  {
   "cell_type": "code",
   "execution_count": 13,
   "metadata": {},
   "outputs": [],
   "source": [
    "# Use dictionary comprehension to create a new diction the compliance for each patient\n",
    "\n",
    "comp_data = {key:value[1]/value[0] for (key,value) in pt_data.items()}"
   ]
  },
  {
   "cell_type": "code",
   "execution_count": 14,
   "metadata": {},
   "outputs": [
    {
     "name": "stdout",
     "output_type": "stream",
     "text": [
      "{'Jane': 0.7, 'Jon': 0.25, 'Max': 2.0}\n"
     ]
    }
   ],
   "source": [
    "print(comp_data)"
   ]
  },
  {
   "cell_type": "code",
   "execution_count": null,
   "metadata": {},
   "outputs": [],
   "source": []
  }
 ],
 "metadata": {
  "kernelspec": {
   "display_name": "Python 3",
   "language": "python",
   "name": "python3"
  },
  "language_info": {
   "codemirror_mode": {
    "name": "ipython",
    "version": 3
   },
   "file_extension": ".py",
   "mimetype": "text/x-python",
   "name": "python",
   "nbconvert_exporter": "python",
   "pygments_lexer": "ipython3",
   "version": "3.8.5"
  }
 },
 "nbformat": 4,
 "nbformat_minor": 4
}
